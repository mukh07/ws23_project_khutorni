{
 "cells": [
  {
   "cell_type": "code",
   "execution_count": 2,
   "metadata": {
    "ExecuteTime": {
     "end_time": "2024-03-16T11:01:21.026902092Z",
     "start_time": "2024-03-16T11:01:17.587461161Z"
    }
   },
   "outputs": [
    {
     "name": "stdout",
     "output_type": "stream",
     "text": [
      "<cals_sdk.cvat.cvat_client.CVATClient object at 0x7f3fb2059280>\n"
     ]
    }
   ],
   "source": [
    "from cals_sdk import CVATClient\n",
    "from cals_sdk.al import ActiveLearningWorkflow\n",
    "\n",
    "\n",
    "# Authenticate with the server\n",
    "import os\n",
    "os.environ['CVAT_HOST'] = 'http://mindgarage26.cs.uni-kl.de:8080'\n",
    "client = CVATClient.get_instance()\n",
    "client.authenticate('khutorni', 'digitaltwin001')\n",
    "print(client)"
   ]
  },
  {
   "cell_type": "code",
   "execution_count": 2,
   "outputs": [],
   "source": [],
   "metadata": {
    "collapsed": false,
    "ExecuteTime": {
     "end_time": "2024-03-16T11:01:21.027215622Z",
     "start_time": "2024-03-16T11:01:21.026742731Z"
    }
   }
  },
  {
   "cell_type": "markdown",
   "metadata": {},
   "source": [
    "## Workflow Example\n"
   ]
  },
  {
   "cell_type": "code",
   "execution_count": 3,
   "metadata": {
    "ExecuteTime": {
     "end_time": "2024-03-16T11:01:21.310568429Z",
     "start_time": "2024-03-16T11:01:21.026875008Z"
    }
   },
   "outputs": [
    {
     "name": "stdout",
     "output_type": "stream",
     "text": [
      "loading annotations into memory...\n",
      "Done (t=0.31s)\n",
      "creating index...\n",
      "index created!\n"
     ]
    }
   ],
   "source": [
    "workflow = ActiveLearningWorkflow(\n",
    "    client,\n",
    "    root='../data/coco/val2017',\n",
    "    anno_file='../data/coco-extended/fixed_person_keypoints_val2017.json',\n",
    "    model=None, # TODO: add model\n",
    "    batch_size=100, # number of images to be annotated in one batch\n",
    "    project_id=27, # project id\n",
    "    work_dir='../data/coco-extended-test/',\n",
    ")"
   ]
  },
  {
   "cell_type": "code",
   "execution_count": 4,
   "metadata": {
    "ExecuteTime": {
     "end_time": "2024-03-16T11:01:21.464740289Z",
     "start_time": "2024-03-16T11:01:21.312342072Z"
    }
   },
   "outputs": [
    {
     "ename": "PermissionError",
     "evalue": "[Errno 13] Permission denied: '../data/coco-extended-test/selected/batch_0.json' -> '../data/coco-extended-test/completed/batch_0.json'",
     "output_type": "error",
     "traceback": [
      "\u001B[0;31m---------------------------------------------------------------------------\u001B[0m",
      "\u001B[0;31mPermissionError\u001B[0m                           Traceback (most recent call last)",
      "Cell \u001B[0;32mIn[4], line 1\u001B[0m\n\u001B[0;32m----> 1\u001B[0m batch_idx, images_zip, anno_file \u001B[38;5;241m=\u001B[39m \u001B[43mworkflow\u001B[49m\u001B[38;5;241;43m.\u001B[39;49m\u001B[43mselect_next_batch\u001B[49m\u001B[43m(\u001B[49m\u001B[43m)\u001B[49m\n",
      "File \u001B[0;32m~/project/ws23_project_khutorni/cals/cals-sdk/cals_sdk/al/workflow.py:170\u001B[0m, in \u001B[0;36mActiveLearningWorkflow.select_next_batch\u001B[0;34m(self)\u001B[0m\n\u001B[1;32m    167\u001B[0m \u001B[38;5;28;01mif\u001B[39;00m current_batch \u001B[38;5;129;01mis\u001B[39;00m \u001B[38;5;129;01mnot\u001B[39;00m \u001B[38;5;28;01mNone\u001B[39;00m:\n\u001B[1;32m    168\u001B[0m     \u001B[38;5;66;03m# Move the current batch to the completed directory\u001B[39;00m\n\u001B[1;32m    169\u001B[0m     batch_file \u001B[38;5;241m=\u001B[39m os\u001B[38;5;241m.\u001B[39mpath\u001B[38;5;241m.\u001B[39mjoin(\u001B[38;5;28mself\u001B[39m\u001B[38;5;241m.\u001B[39mactive_dir, \u001B[38;5;124mf\u001B[39m\u001B[38;5;124m'\u001B[39m\u001B[38;5;124mbatch_\u001B[39m\u001B[38;5;132;01m{\u001B[39;00mcurrent_batch\u001B[38;5;132;01m}\u001B[39;00m\u001B[38;5;124m.json\u001B[39m\u001B[38;5;124m'\u001B[39m)\n\u001B[0;32m--> 170\u001B[0m     \u001B[43mos\u001B[49m\u001B[38;5;241;43m.\u001B[39;49m\u001B[43mrename\u001B[49m\u001B[43m(\u001B[49m\u001B[43mbatch_file\u001B[49m\u001B[43m,\u001B[49m\u001B[43m \u001B[49m\u001B[43mos\u001B[49m\u001B[38;5;241;43m.\u001B[39;49m\u001B[43mpath\u001B[49m\u001B[38;5;241;43m.\u001B[39;49m\u001B[43mjoin\u001B[49m\u001B[43m(\u001B[49m\u001B[38;5;28;43mself\u001B[39;49m\u001B[38;5;241;43m.\u001B[39;49m\u001B[43mcompleted_dir\u001B[49m\u001B[43m,\u001B[49m\u001B[43m \u001B[49m\u001B[38;5;124;43mf\u001B[39;49m\u001B[38;5;124;43m'\u001B[39;49m\u001B[38;5;124;43mbatch_\u001B[39;49m\u001B[38;5;132;43;01m{\u001B[39;49;00m\u001B[43mcurrent_batch\u001B[49m\u001B[38;5;132;43;01m}\u001B[39;49;00m\u001B[38;5;124;43m.json\u001B[39;49m\u001B[38;5;124;43m'\u001B[39;49m\u001B[43m)\u001B[49m\u001B[43m)\u001B[49m\n\u001B[1;32m    172\u001B[0m     \u001B[38;5;66;03m# Move the zip file to the completed directory\u001B[39;00m\n\u001B[1;32m    173\u001B[0m     zip_file \u001B[38;5;241m=\u001B[39m os\u001B[38;5;241m.\u001B[39mpath\u001B[38;5;241m.\u001B[39mjoin(\u001B[38;5;28mself\u001B[39m\u001B[38;5;241m.\u001B[39mactive_dir, \u001B[38;5;124mf\u001B[39m\u001B[38;5;124m'\u001B[39m\u001B[38;5;124mbatch_\u001B[39m\u001B[38;5;132;01m{\u001B[39;00mcurrent_batch\u001B[38;5;132;01m}\u001B[39;00m\u001B[38;5;124m.zip\u001B[39m\u001B[38;5;124m'\u001B[39m)\n",
      "\u001B[0;31mPermissionError\u001B[0m: [Errno 13] Permission denied: '../data/coco-extended-test/selected/batch_0.json' -> '../data/coco-extended-test/completed/batch_0.json'"
     ]
    }
   ],
   "source": [
    "batch_idx, images_zip, anno_file = workflow.select_next_batch()"
   ]
  },
  {
   "cell_type": "code",
   "execution_count": null,
   "metadata": {
    "ExecuteTime": {
     "start_time": "2024-03-16T11:01:21.467291971Z"
    }
   },
   "outputs": [],
   "source": [
    "bad_images_zip, bad_anno_file = workflow.filter_batch(batch_idx, images_zip, anno_file)"
   ]
  },
  {
   "cell_type": "code",
   "execution_count": null,
   "metadata": {
    "ExecuteTime": {
     "start_time": "2024-03-16T11:01:21.470646632Z"
    }
   },
   "outputs": [],
   "source": [
    "# workflow.upload_batch(bad_images_zip, bad_anno_file)\n",
    "task_id = workflow.upload_batch(images_zip, anno_file)"
   ]
  }
 ],
 "metadata": {
  "kernelspec": {
   "display_name": "venv",
   "language": "python",
   "name": "python3"
  },
  "language_info": {
   "codemirror_mode": {
    "name": "ipython",
    "version": 3
   },
   "file_extension": ".py",
   "mimetype": "text/x-python",
   "name": "python",
   "nbconvert_exporter": "python",
   "pygments_lexer": "ipython3",
   "version": "3.8.10"
  }
 },
 "nbformat": 4,
 "nbformat_minor": 2
}
